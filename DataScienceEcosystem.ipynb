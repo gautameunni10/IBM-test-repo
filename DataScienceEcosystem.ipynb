{
 "cells": [
  {
   "cell_type": "code",
   "execution_count": null,
   "id": "5179140d",
   "metadata": {},
   "outputs": [],
   "source": [
    "# Create markdown cell with title of the notebook"
   ]
  },
  {
   "cell_type": "markdown",
   "id": "f9d81798",
   "metadata": {},
   "source": [
    "# Data Science Tools and Ecosystem"
   ]
  },
  {
   "cell_type": "code",
   "execution_count": null,
   "id": "2d73546e",
   "metadata": {},
   "outputs": [],
   "source": [
    "# Create a markdown cell for an introduction"
   ]
  },
  {
   "cell_type": "markdown",
   "id": "04ad1771",
   "metadata": {},
   "source": [
    "In this notebook, Data Science Tools and Ecosystem are summarized."
   ]
  },
  {
   "cell_type": "code",
   "execution_count": null,
   "id": "c63ee019",
   "metadata": {},
   "outputs": [],
   "source": [
    "#  Insert a markdown cell to list Objectives below introduction (from excercise 3)"
   ]
  },
  {
   "cell_type": "markdown",
   "id": "0a464a90",
   "metadata": {},
   "source": [
    "**Objectives:**\n",
    "- Create a Jupyter Notebook\n",
    "- List common languages for data science\n",
    "- List common libraries used by data scientists\n",
    "- Insert code and markdown cells\n",
    "- Execute ordered list/unordered list or tables in markdown cells\n",
    "- Execute arithmetic operations in codes\n",
    "- Share your notebook through GitHub"
   ]
  },
  {
   "cell_type": "code",
   "execution_count": null,
   "id": "6a2eedea",
   "metadata": {},
   "outputs": [],
   "source": [
    "# Create a markdown cell to list data science languages"
   ]
  },
  {
   "cell_type": "markdown",
   "id": "f17c8895",
   "metadata": {},
   "source": [
    "Some of the popular languages that Data Scientists use are:\n",
    "1. Python\n",
    "2. R Language\n",
    "3. SQL\n",
    "4. Java\n",
    "5. Julia\n",
    "6. C++"
   ]
  },
  {
   "cell_type": "code",
   "execution_count": null,
   "id": "d1a5e40c",
   "metadata": {},
   "outputs": [],
   "source": [
    "#Create a markdown cell to list data science libraries"
   ]
  },
  {
   "cell_type": "markdown",
   "id": "7c8c5b0c",
   "metadata": {},
   "source": [
    "Some of the commonly used libraries used by Data Scientists include:\n",
    "1. Scikit-learn\n",
    "2. NumPy\n",
    "3. Pandas\n",
    "4. Matplotlib\n",
    "5. Keras"
   ]
  },
  {
   "cell_type": "code",
   "execution_count": null,
   "id": "7709254a",
   "metadata": {},
   "outputs": [],
   "source": [
    "# Create a markdown cell with a table of Data Science tools"
   ]
  },
  {
   "cell_type": "markdown",
   "id": "d7931c17",
   "metadata": {},
   "source": [
    "| Data Science tools | \n",
    "| -------------| \n",
    "| IBM Watson Studio| \n",
    "| IBM Cognos Dashboard Embedded | "
   ]
  },
  {
   "cell_type": "code",
   "execution_count": null,
   "id": "a9cb43a7",
   "metadata": {},
   "outputs": [],
   "source": [
    "# Create a markdown cell introducing arithmetic expression examples"
   ]
  },
  {
   "cell_type": "markdown",
   "id": "dbda1e2e",
   "metadata": {},
   "source": [
    "### Below are a few examples of evaluating arithmetic expressions in Python\n"
   ]
  },
  {
   "cell_type": "code",
   "execution_count": null,
   "id": "3ab5a502",
   "metadata": {},
   "outputs": [],
   "source": [
    "# Create a code cell to multiply and add numbers"
   ]
  },
  {
   "cell_type": "code",
   "execution_count": 1,
   "id": "88c0f7a3",
   "metadata": {},
   "outputs": [
    {
     "data": {
      "text/plain": [
       "17"
      ]
     },
     "execution_count": 1,
     "metadata": {},
     "output_type": "execute_result"
    }
   ],
   "source": [
    "# This a simple arithmetic expression to mutiply then add integers.\n",
    "(3*4)+5"
   ]
  },
  {
   "cell_type": "code",
   "execution_count": null,
   "id": "41ff1afc",
   "metadata": {},
   "outputs": [],
   "source": [
    "# Create a code cell to convert minutes to hours"
   ]
  },
  {
   "cell_type": "code",
   "execution_count": 2,
   "id": "a20db628",
   "metadata": {},
   "outputs": [
    {
     "data": {
      "text/plain": [
       "3"
      ]
     },
     "execution_count": 2,
     "metadata": {},
     "output_type": "execute_result"
    }
   ],
   "source": [
    "# This will convert 200 minutes to hours by diving by 60.\n",
    "200//60"
   ]
  },
  {
   "cell_type": "code",
   "execution_count": null,
   "id": "37d43bab",
   "metadata": {},
   "outputs": [],
   "source": [
    "# Create a markdown cell to indicate the Author's name"
   ]
  },
  {
   "cell_type": "markdown",
   "id": "8d219783",
   "metadata": {},
   "source": [
    "## Author\n",
    "Gautam E Unni"
   ]
  }
 ],
 "metadata": {
  "kernelspec": {
   "display_name": "Python 3 (ipykernel)",
   "language": "python",
   "name": "python3"
  },
  "language_info": {
   "codemirror_mode": {
    "name": "ipython",
    "version": 3
   },
   "file_extension": ".py",
   "mimetype": "text/x-python",
   "name": "python",
   "nbconvert_exporter": "python",
   "pygments_lexer": "ipython3",
   "version": "3.10.6"
  }
 },
 "nbformat": 4,
 "nbformat_minor": 5
}
