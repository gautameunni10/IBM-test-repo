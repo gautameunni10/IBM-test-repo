{
 "cells": [
  {
   "cell_type": "code",
   "execution_count": 1,
   "id": "e37acf2e",
   "metadata": {},
   "outputs": [
    {
     "name": "stdout",
     "output_type": "stream",
     "text": [
      "/bin/bash: line 1: pip3: command not found\r\n"
     ]
    }
   ],
   "source": [
    "!pip3 install pymatgen"
   ]
  },
  {
   "cell_type": "code",
   "execution_count": 2,
   "id": "03630bd2",
   "metadata": {},
   "outputs": [
    {
     "ename": "SyntaxError",
     "evalue": "invalid syntax (1280323225.py, line 1)",
     "output_type": "error",
     "traceback": [
      "\u001b[0;36m  File \u001b[0;32m\"/tmp/ipykernel_107447/1280323225.py\"\u001b[0;36m, line \u001b[0;32m1\u001b[0m\n\u001b[0;31m    pip3 install pymatgen\u001b[0m\n\u001b[0m         ^\u001b[0m\n\u001b[0;31mSyntaxError\u001b[0m\u001b[0;31m:\u001b[0m invalid syntax\n"
     ]
    }
   ],
   "source": [
    "pip3 install pymatgen"
   ]
  },
  {
   "cell_type": "code",
   "execution_count": 2,
   "id": "eae698ee",
   "metadata": {},
   "outputs": [
    {
     "name": "stdout",
     "output_type": "stream",
     "text": [
      "Hello Material Science! Happy you are here!!\n"
     ]
    }
   ],
   "source": [
    "print (\"Hello Material Science! Happy you are here!!\")"
   ]
  },
  {
   "cell_type": "code",
   "execution_count": 3,
   "id": "4ecc75f2",
   "metadata": {},
   "outputs": [
    {
     "name": "stdout",
     "output_type": "stream",
     "text": [
      "Do you like coffee? Yes, with milk and two spoons of sugar please!\n"
     ]
    }
   ],
   "source": [
    "print (\"Do you like coffee?\", \"Yes, with milk and two spoons of sugar please!\")"
   ]
  },
  {
   "cell_type": "code",
   "execution_count": 4,
   "id": "1fe169e1",
   "metadata": {},
   "outputs": [
    {
     "data": {
      "text/plain": [
       "'a'"
      ]
     },
     "execution_count": 4,
     "metadata": {},
     "output_type": "execute_result"
    }
   ],
   "source": [
    "\"a\""
   ]
  },
  {
   "cell_type": "code",
   "execution_count": 5,
   "id": "77b6b478",
   "metadata": {},
   "outputs": [
    {
     "name": "stdout",
     "output_type": "stream",
     "text": [
      "my name is Gautam!\n"
     ]
    }
   ],
   "source": [
    "s = 'my name is Gautam!'\n",
    "print(s)"
   ]
  },
  {
   "cell_type": "code",
   "execution_count": 7,
   "id": "63d6b69f",
   "metadata": {},
   "outputs": [
    {
     "name": "stdout",
     "output_type": "stream",
     "text": [
      "2.25\n",
      "2\n",
      "1\n",
      "13\n",
      "5\n",
      "36\n"
     ]
    }
   ],
   "source": [
    "#This code demonstrates mathematical operations\n",
    "a = 9/4\n",
    "b = 9//4\n",
    "c = 9%4\n",
    "d = 9 + 4\n",
    "e = 9-4\n",
    "f = 9*4\n",
    "print (a)\n",
    "print (b)\n",
    "print (c)\n",
    "print (d)\n",
    "print (e)\n",
    "print (f)"
   ]
  },
  {
   "cell_type": "code",
   "execution_count": 8,
   "id": "c8e78609",
   "metadata": {},
   "outputs": [
    {
     "name": "stdout",
     "output_type": "stream",
     "text": [
      "False\n",
      "False\n",
      "True\n"
     ]
    }
   ],
   "source": [
    "#This code demonstrates Boolean operations\n",
    "a = 3\n",
    "b = 5\n",
    "c = a == b\n",
    "print (c)\n",
    "d = a > b\n",
    "print (d)\n",
    "e = a <= b\n",
    "print (e)"
   ]
  },
  {
   "cell_type": "code",
   "execution_count": 9,
   "id": "9431844f",
   "metadata": {},
   "outputs": [
    {
     "name": "stdout",
     "output_type": "stream",
     "text": [
      "I\n",
      "7\n",
      "[1, 2, 3, 4, 5, 9, 7]\n",
      "['I', 'want', 'to', 'order', 'a pizza', 'for', 'fifty', 'dollars']\n"
     ]
    }
   ],
   "source": [
    "#LISTS\n",
    "a = [\"I\", \"want\", \"to\", \"order\", \"a pizza\", \"for\", 50, \"dollars\"]\n",
    "b = [1, 2, 3, 4, 5, 6, 7]\n",
    "print (a[0])\n",
    "print (b[6])\n",
    "b[5] = 9\n",
    "print (b)\n",
    "a[6] = \"fifty\"\n",
    "print (a)"
   ]
  },
  {
   "cell_type": "code",
   "execution_count": 10,
   "id": "4bbca3c5",
   "metadata": {},
   "outputs": [
    {
     "ename": "TypeError",
     "evalue": "list.append() takes exactly one argument (2 given)",
     "output_type": "error",
     "traceback": [
      "\u001b[0;31m---------------------------------------------------------------------------\u001b[0m",
      "\u001b[0;31mTypeError\u001b[0m                                 Traceback (most recent call last)",
      "\u001b[0;32m/tmp/ipykernel_11789/165272062.py\u001b[0m in \u001b[0;36m<module>\u001b[0;34m\u001b[0m\n\u001b[1;32m      1\u001b[0m \u001b[0ma\u001b[0m \u001b[0;34m=\u001b[0m \u001b[0;34m[\u001b[0m\u001b[0;34m\"I\"\u001b[0m\u001b[0;34m,\u001b[0m \u001b[0;34m\"want\"\u001b[0m\u001b[0;34m,\u001b[0m \u001b[0;34m\"to\"\u001b[0m\u001b[0;34m,\u001b[0m \u001b[0;34m\"order\"\u001b[0m\u001b[0;34m,\u001b[0m \u001b[0;34m\"a pizza\"\u001b[0m\u001b[0;34m,\u001b[0m \u001b[0;34m\"for\"\u001b[0m\u001b[0;34m,\u001b[0m \u001b[0;36m50\u001b[0m\u001b[0;34m,\u001b[0m \u001b[0;34m\"dollars\"\u001b[0m\u001b[0;34m]\u001b[0m\u001b[0;34m\u001b[0m\u001b[0;34m\u001b[0m\u001b[0m\n\u001b[1;32m      2\u001b[0m \u001b[0mb\u001b[0m \u001b[0;34m=\u001b[0m \u001b[0;34m[\u001b[0m\u001b[0;36m1\u001b[0m\u001b[0;34m,\u001b[0m \u001b[0;36m2\u001b[0m\u001b[0;34m,\u001b[0m \u001b[0;36m3\u001b[0m\u001b[0;34m,\u001b[0m \u001b[0;36m4\u001b[0m\u001b[0;34m,\u001b[0m \u001b[0;36m5\u001b[0m\u001b[0;34m,\u001b[0m \u001b[0;36m6\u001b[0m\u001b[0;34m,\u001b[0m \u001b[0;36m7\u001b[0m\u001b[0;34m]\u001b[0m\u001b[0;34m\u001b[0m\u001b[0;34m\u001b[0m\u001b[0m\n\u001b[0;32m----> 3\u001b[0;31m \u001b[0mb\u001b[0m\u001b[0;34m.\u001b[0m\u001b[0mappend\u001b[0m\u001b[0;34m(\u001b[0m\u001b[0;36m8\u001b[0m\u001b[0;34m,\u001b[0m \u001b[0;36m9\u001b[0m\u001b[0;34m)\u001b[0m\u001b[0;34m\u001b[0m\u001b[0;34m\u001b[0m\u001b[0m\n\u001b[0m\u001b[1;32m      4\u001b[0m \u001b[0mprint\u001b[0m \u001b[0;34m(\u001b[0m\u001b[0mb\u001b[0m\u001b[0;34m)\u001b[0m\u001b[0;34m\u001b[0m\u001b[0;34m\u001b[0m\u001b[0m\n\u001b[1;32m      5\u001b[0m \u001b[0mb\u001b[0m\u001b[0;34m.\u001b[0m\u001b[0minsert\u001b[0m \u001b[0;34m(\u001b[0m\u001b[0;36m10\u001b[0m\u001b[0;34m,\u001b[0m \u001b[0;36m11\u001b[0m\u001b[0;34m,\u001b[0m \u001b[0;36m12\u001b[0m\u001b[0;34m)\u001b[0m\u001b[0;34m\u001b[0m\u001b[0;34m\u001b[0m\u001b[0m\n",
      "\u001b[0;31mTypeError\u001b[0m: list.append() takes exactly one argument (2 given)"
     ]
    }
   ],
   "source": [
    "#change in lists\n",
    "a = [\"I\", \"want\", \"to\", \"order\", \"a pizza\", \"for\", 50, \"dollars\"]\n",
    "b = [1, 2, 3, 4, 5, 6, 7]\n",
    "b.append(8, 9)\n",
    "print (b)\n",
    "b.insert (10, 11, 12)\n",
    "print (b)\n",
    "a + [\"make it quick!\"]\n",
    "print (a)"
   ]
  },
  {
   "cell_type": "code",
   "execution_count": 11,
   "id": "7767bdc4",
   "metadata": {},
   "outputs": [
    {
     "name": "stdout",
     "output_type": "stream",
     "text": [
      "[1, 2, 3, 4, 5, 6, 7, 8]\n"
     ]
    },
    {
     "ename": "TypeError",
     "evalue": "insert expected 2 arguments, got 3",
     "output_type": "error",
     "traceback": [
      "\u001b[0;31m---------------------------------------------------------------------------\u001b[0m",
      "\u001b[0;31mTypeError\u001b[0m                                 Traceback (most recent call last)",
      "\u001b[0;32m/tmp/ipykernel_11789/3597364731.py\u001b[0m in \u001b[0;36m<module>\u001b[0;34m\u001b[0m\n\u001b[1;32m      3\u001b[0m \u001b[0mb\u001b[0m\u001b[0;34m.\u001b[0m\u001b[0mappend\u001b[0m\u001b[0;34m(\u001b[0m\u001b[0;36m8\u001b[0m\u001b[0;34m)\u001b[0m\u001b[0;34m\u001b[0m\u001b[0;34m\u001b[0m\u001b[0m\n\u001b[1;32m      4\u001b[0m \u001b[0mprint\u001b[0m \u001b[0;34m(\u001b[0m\u001b[0mb\u001b[0m\u001b[0;34m)\u001b[0m\u001b[0;34m\u001b[0m\u001b[0;34m\u001b[0m\u001b[0m\n\u001b[0;32m----> 5\u001b[0;31m \u001b[0mb\u001b[0m\u001b[0;34m.\u001b[0m\u001b[0minsert\u001b[0m \u001b[0;34m(\u001b[0m\u001b[0;36m10\u001b[0m\u001b[0;34m,\u001b[0m \u001b[0;36m11\u001b[0m\u001b[0;34m,\u001b[0m \u001b[0;36m12\u001b[0m\u001b[0;34m)\u001b[0m\u001b[0;34m\u001b[0m\u001b[0;34m\u001b[0m\u001b[0m\n\u001b[0m\u001b[1;32m      6\u001b[0m \u001b[0mprint\u001b[0m \u001b[0;34m(\u001b[0m\u001b[0mb\u001b[0m\u001b[0;34m)\u001b[0m\u001b[0;34m\u001b[0m\u001b[0;34m\u001b[0m\u001b[0m\n\u001b[1;32m      7\u001b[0m \u001b[0ma\u001b[0m \u001b[0;34m+\u001b[0m \u001b[0;34m[\u001b[0m\u001b[0;34m\"make it quick!\"\u001b[0m\u001b[0;34m]\u001b[0m\u001b[0;34m\u001b[0m\u001b[0;34m\u001b[0m\u001b[0m\n",
      "\u001b[0;31mTypeError\u001b[0m: insert expected 2 arguments, got 3"
     ]
    }
   ],
   "source": [
    "#change in lists\n",
    "a = [\"I\", \"want\", \"to\", \"order\", \"a pizza\", \"for\", 50, \"dollars\"]\n",
    "b = [1, 2, 3, 4, 5, 6, 7]\n",
    "b.append(8)\n",
    "print (b)\n",
    "b.insert (10, 11, 12)\n",
    "print (b)\n",
    "a + [\"make it quick!\"]\n",
    "print (a)"
   ]
  },
  {
   "cell_type": "code",
   "execution_count": 12,
   "id": "197af1a9",
   "metadata": {},
   "outputs": [
    {
     "name": "stdout",
     "output_type": "stream",
     "text": [
      "[1, 2, 3, 4, 5, 11, 6, 7, 8]\n",
      "['I', 'want', 'to', 'order', 'a pizza', 'for', 50, 'dollars']\n"
     ]
    }
   ],
   "source": [
    "#change in lists\n",
    "b.insert (5, 11)\n",
    "print (b)\n",
    "a + [\"make it quick!\"]\n",
    "print (a)"
   ]
  },
  {
   "cell_type": "code",
   "execution_count": 13,
   "id": "459c6d13",
   "metadata": {},
   "outputs": [
    {
     "name": "stdout",
     "output_type": "stream",
     "text": [
      "[1, 2, 3, 4, 5, 13, 11, 6, 7, 8]\n"
     ]
    }
   ],
   "source": [
    "b.insert (b[4], 13)\n",
    "print (b)"
   ]
  },
  {
   "cell_type": "code",
   "execution_count": 14,
   "id": "50e54bc0",
   "metadata": {},
   "outputs": [
    {
     "name": "stdout",
     "output_type": "stream",
     "text": [
      "['I', 'want', 'to', 'order', 'a pizza', 'for', 50, 'dollars', 'make it quick!']\n"
     ]
    }
   ],
   "source": [
    "print (a + [\"make it quick!\"])"
   ]
  },
  {
   "cell_type": "code",
   "execution_count": 15,
   "id": "0dc6d1e3",
   "metadata": {},
   "outputs": [
    {
     "ename": "TypeError",
     "evalue": "'tuple' object does not support item assignment",
     "output_type": "error",
     "traceback": [
      "\u001b[0;31m---------------------------------------------------------------------------\u001b[0m",
      "\u001b[0;31mTypeError\u001b[0m                                 Traceback (most recent call last)",
      "\u001b[0;32m/tmp/ipykernel_11789/2900359575.py\u001b[0m in \u001b[0;36m<module>\u001b[0;34m\u001b[0m\n\u001b[1;32m      1\u001b[0m \u001b[0;31m#example for a tuple\u001b[0m\u001b[0;34m\u001b[0m\u001b[0;34m\u001b[0m\u001b[0m\n\u001b[1;32m      2\u001b[0m \u001b[0ma\u001b[0m \u001b[0;34m=\u001b[0m \u001b[0;34m(\u001b[0m\u001b[0;36m3\u001b[0m\u001b[0;34m,\u001b[0m \u001b[0;36m4\u001b[0m\u001b[0;34m,\u001b[0m \u001b[0;36m5\u001b[0m\u001b[0;34m)\u001b[0m\u001b[0;34m\u001b[0m\u001b[0;34m\u001b[0m\u001b[0m\n\u001b[0;32m----> 3\u001b[0;31m \u001b[0ma\u001b[0m\u001b[0;34m[\u001b[0m\u001b[0;36m0\u001b[0m\u001b[0;34m]\u001b[0m \u001b[0;34m=\u001b[0m \u001b[0;36m2\u001b[0m\u001b[0;34m\u001b[0m\u001b[0;34m\u001b[0m\u001b[0m\n\u001b[0m\u001b[1;32m      4\u001b[0m \u001b[0mprint\u001b[0m\u001b[0;34m(\u001b[0m\u001b[0ma\u001b[0m\u001b[0;34m)\u001b[0m\u001b[0;34m\u001b[0m\u001b[0;34m\u001b[0m\u001b[0m\n",
      "\u001b[0;31mTypeError\u001b[0m: 'tuple' object does not support item assignment"
     ]
    }
   ],
   "source": [
    "#example for a tuple\n",
    "a = (3, 4, 5)\n",
    "a[0] = 2\n",
    "print(a)"
   ]
  },
  {
   "cell_type": "code",
   "execution_count": 16,
   "id": "5c7bd50d",
   "metadata": {},
   "outputs": [
    {
     "name": "stdout",
     "output_type": "stream",
     "text": [
      "3.5\n",
      "dictionaries\n"
     ]
    }
   ],
   "source": [
    "#Dictionaries\n",
    "a = {'apple':3.5, 'pear':2.5, \"banana\":5}\n",
    "print(a['apple'])\n",
    "b = {'Z':\"lists\", 'Y':\"tuples\", 'X':\"sets\", 'W':\"dictionaries\"}\n",
    "print(b['W'])"
   ]
  },
  {
   "cell_type": "code",
   "execution_count": 17,
   "id": "d6581538",
   "metadata": {},
   "outputs": [
    {
     "ename": "SyntaxError",
     "evalue": "expected ':' (3218123041.py, line 3)",
     "output_type": "error",
     "traceback": [
      "\u001b[0;36m  File \u001b[0;32m\"/tmp/ipykernel_11789/3218123041.py\"\u001b[0;36m, line \u001b[0;32m3\u001b[0m\n\u001b[0;31m    if s[0] == M\u001b[0m\n\u001b[0m                ^\u001b[0m\n\u001b[0;31mSyntaxError\u001b[0m\u001b[0;31m:\u001b[0m expected ':'\n"
     ]
    }
   ],
   "source": [
    "#conditional statement\n",
    "s = 'Meenakshi'\n",
    "if s[0] == M\n",
    "print (s-s[0])"
   ]
  },
  {
   "cell_type": "code",
   "execution_count": 18,
   "id": "eac57ef4",
   "metadata": {},
   "outputs": [
    {
     "ename": "SyntaxError",
     "evalue": "expected ':' (518436878.py, line 3)",
     "output_type": "error",
     "traceback": [
      "\u001b[0;36m  File \u001b[0;32m\"/tmp/ipykernel_11789/518436878.py\"\u001b[0;36m, line \u001b[0;32m3\u001b[0m\n\u001b[0;31m    if s[0] == 'M'\u001b[0m\n\u001b[0m                  ^\u001b[0m\n\u001b[0;31mSyntaxError\u001b[0m\u001b[0;31m:\u001b[0m expected ':'\n"
     ]
    }
   ],
   "source": [
    "#conditional statement\n",
    "s = 'Meenakshi'\n",
    "if s[0] == 'M':\n",
    "print (s-s[0])"
   ]
  },
  {
   "cell_type": "code",
   "execution_count": 19,
   "id": "2f7128cb",
   "metadata": {},
   "outputs": [
    {
     "ename": "IndentationError",
     "evalue": "expected an indented block after 'if' statement on line 3 (2192647129.py, line 4)",
     "output_type": "error",
     "traceback": [
      "\u001b[0;36m  File \u001b[0;32m\"/tmp/ipykernel_11789/2192647129.py\"\u001b[0;36m, line \u001b[0;32m4\u001b[0m\n\u001b[0;31m    print (s-s[0])\u001b[0m\n\u001b[0m    ^\u001b[0m\n\u001b[0;31mIndentationError\u001b[0m\u001b[0;31m:\u001b[0m expected an indented block after 'if' statement on line 3\n"
     ]
    }
   ],
   "source": [
    "#conditional statement\n",
    "s = 'Meenakshi'\n",
    "if s[0] == 'M':\n",
    "print (s-s[0])"
   ]
  },
  {
   "cell_type": "code",
   "execution_count": 20,
   "id": "f936825b",
   "metadata": {},
   "outputs": [
    {
     "ename": "IndentationError",
     "evalue": "expected an indented block after 'if' statement on line 3 (2615394318.py, line 4)",
     "output_type": "error",
     "traceback": [
      "\u001b[0;36m  File \u001b[0;32m\"/tmp/ipykernel_11789/2615394318.py\"\u001b[0;36m, line \u001b[0;32m4\u001b[0m\n\u001b[0;31m    print (s)\u001b[0m\n\u001b[0m    ^\u001b[0m\n\u001b[0;31mIndentationError\u001b[0m\u001b[0;31m:\u001b[0m expected an indented block after 'if' statement on line 3\n"
     ]
    }
   ],
   "source": [
    "#conditional statement\n",
    "s = 'Meenakshi'\n",
    "if s[0] == 'M':\n",
    "print (s)"
   ]
  },
  {
   "cell_type": "code",
   "execution_count": 21,
   "id": "f33e0097",
   "metadata": {},
   "outputs": [
    {
     "name": "stdout",
     "output_type": "stream",
     "text": [
      "Meenakshi\n"
     ]
    }
   ],
   "source": [
    "#conditional statement\n",
    "s = 'Meenakshi'\n",
    "if s[0] == 'M':\n",
    "    print(s)"
   ]
  },
  {
   "cell_type": "code",
   "execution_count": 22,
   "id": "32cad72b",
   "metadata": {},
   "outputs": [
    {
     "ename": "SyntaxError",
     "evalue": "expected ':' (2860223921.py, line 3)",
     "output_type": "error",
     "traceback": [
      "\u001b[0;36m  File \u001b[0;32m\"/tmp/ipykernel_11789/2860223921.py\"\u001b[0;36m, line \u001b[0;32m3\u001b[0m\n\u001b[0;31m    if 'Meenakshi' in temp\u001b[0m\n\u001b[0m                          ^\u001b[0m\n\u001b[0;31mSyntaxError\u001b[0m\u001b[0;31m:\u001b[0m expected ':'\n"
     ]
    }
   ],
   "source": [
    "#conditional statement\n",
    "temp = ['Meenakshi', 'Meera', 'Yadu', 'Gopikrishnan', 'Gautam', 'Kuttan', 'DF26MG', '5 Hope St']\n",
    "if 'Meenakshi' in temp\n",
    "print('I found Meenakshi!')\n",
    "elif 'Gautam' in temp\n",
    "print('I found Gautam')\n",
    "else '5 Hope St' in temp\n",
    "print('They are HOME!!!')"
   ]
  },
  {
   "cell_type": "code",
   "execution_count": 23,
   "id": "85b7258a",
   "metadata": {},
   "outputs": [
    {
     "ename": "SyntaxError",
     "evalue": "expected ':' (773143075.py, line 3)",
     "output_type": "error",
     "traceback": [
      "\u001b[0;36m  File \u001b[0;32m\"/tmp/ipykernel_11789/773143075.py\"\u001b[0;36m, line \u001b[0;32m3\u001b[0m\n\u001b[0;31m    if 'k' in temp\u001b[0m\n\u001b[0m                  ^\u001b[0m\n\u001b[0;31mSyntaxError\u001b[0m\u001b[0;31m:\u001b[0m expected ':'\n"
     ]
    }
   ],
   "source": [
    "#conditional statement\n",
    "temp = ['Meenakshi', 'Meera', 'Yadu', 'Gopikrishnan', 'Gautam', 'Kuttan', 'DF26MG', '5 Hope St']\n",
    "if 'k' in temp\n",
    "print('I found a K!')\n",
    "elif 'm' in temp\n",
    "print('I found a M!')\n",
    "else 5 in temp\n",
    "print('They are HOME!!!')"
   ]
  },
  {
   "cell_type": "code",
   "execution_count": 24,
   "id": "24ba2219",
   "metadata": {},
   "outputs": [
    {
     "ename": "SyntaxError",
     "evalue": "expected ':' (1283179649.py, line 3)",
     "output_type": "error",
     "traceback": [
      "\u001b[0;36m  File \u001b[0;32m\"/tmp/ipykernel_11789/1283179649.py\"\u001b[0;36m, line \u001b[0;32m3\u001b[0m\n\u001b[0;31m    if k in temp\u001b[0m\n\u001b[0m                ^\u001b[0m\n\u001b[0;31mSyntaxError\u001b[0m\u001b[0;31m:\u001b[0m expected ':'\n"
     ]
    }
   ],
   "source": [
    "#conditional statement\n",
    "temp = ['Meenakshi', 'Meera', 'Yadu', 'Gopikrishnan', 'Gautam', 'Kuttan', 'DF26MG', '5 Hope St']\n",
    "if k in temp\n",
    "print('I found a K!')\n",
    "elif m in temp\n",
    "print('I found a M!')\n",
    "else 5 in temp\n",
    "print('They are HOME!!!')"
   ]
  },
  {
   "cell_type": "code",
   "execution_count": 25,
   "id": "74f78c99",
   "metadata": {},
   "outputs": [
    {
     "ename": "IndentationError",
     "evalue": "expected an indented block after 'if' statement on line 3 (3767996912.py, line 4)",
     "output_type": "error",
     "traceback": [
      "\u001b[0;36m  File \u001b[0;32m\"/tmp/ipykernel_11789/3767996912.py\"\u001b[0;36m, line \u001b[0;32m4\u001b[0m\n\u001b[0;31m    print('I found Meenakshi!')\u001b[0m\n\u001b[0m    ^\u001b[0m\n\u001b[0;31mIndentationError\u001b[0m\u001b[0;31m:\u001b[0m expected an indented block after 'if' statement on line 3\n"
     ]
    }
   ],
   "source": [
    "#conditional statement\n",
    "temp = ['Meenakshi', 'Meera', 'Yadu', 'Gopikrishnan', 'Gautam', 'Kuttan', 'DF26MG', '5 Hope St']\n",
    "if 'Meenakshi' in temp:\n",
    "print('I found Meenakshi!')\n",
    "elif 'Gautam' in temp:\n",
    "print('I found Gautam')\n",
    "else:\n",
    "print('They are HOME!!!')"
   ]
  },
  {
   "cell_type": "code",
   "execution_count": 26,
   "id": "fca108ff",
   "metadata": {},
   "outputs": [
    {
     "ename": "IndentationError",
     "evalue": "expected an indented block after 'if' statement on line 3 (440040236.py, line 4)",
     "output_type": "error",
     "traceback": [
      "\u001b[0;36m  File \u001b[0;32m\"/tmp/ipykernel_11789/440040236.py\"\u001b[0;36m, line \u001b[0;32m4\u001b[0m\n\u001b[0;31m    print('I found Meenakshi!')\u001b[0m\n\u001b[0m    ^\u001b[0m\n\u001b[0;31mIndentationError\u001b[0m\u001b[0;31m:\u001b[0m expected an indented block after 'if' statement on line 3\n"
     ]
    }
   ],
   "source": [
    "#conditional statement\n",
    "temp = ['Meenakshi', 'Meera', 'Yadu', 'Gopikrishnan', 'Gautam', 'Kuttan', 'DF26MG', '5 Hope St']\n",
    "if 'Meenakshi' in temp:\n",
    "print('I found Meenakshi!')\n",
    "elif 'Gautam' in temp:\n",
    "print('I found Gautam')\n",
    "else:\n",
    "print('They are HOME!!!')"
   ]
  },
  {
   "cell_type": "code",
   "execution_count": 27,
   "id": "35c3cb77",
   "metadata": {},
   "outputs": [
    {
     "name": "stdout",
     "output_type": "stream",
     "text": [
      "I found Meenakshi!\n"
     ]
    }
   ],
   "source": [
    "#conditional statement\n",
    "temp = ['Meenakshi', 'Meera', 'Yadu', 'Gopikrishnan', 'Gautam', 'Kuttan', 'DF26MG', '5 Hope St']\n",
    "if 'Meenakshi' in temp:\n",
    " print('I found Meenakshi!')\n",
    "elif 'Gautam' in temp:\n",
    " print('I found Gautam')\n",
    "else:\n",
    " print('They are HOME!!!')"
   ]
  },
  {
   "cell_type": "code",
   "execution_count": 28,
   "id": "f71e9cea",
   "metadata": {},
   "outputs": [
    {
     "name": "stdout",
     "output_type": "stream",
     "text": [
      "They are HOME!!!\n"
     ]
    }
   ],
   "source": [
    "#conditional statement\n",
    "Wyong = ['Meenakshi', 'Gautam', '5 Hope St']\n",
    "Epping = ['Meera', 'Yadu', 'Gopikrishnan', '18 Epping park Dr']\n",
    "Wollong = ['Kuttan']\n",
    "\n",
    "if 'Meenakshi' in Epping:\n",
    " print('I found Meenakshi!')\n",
    "elif 'Gautam' in Epping:\n",
    " print('I found Gautam')\n",
    "else:\n",
    " print('They are HOME!!!')"
   ]
  },
  {
   "cell_type": "code",
   "execution_count": null,
   "id": "8f28d181",
   "metadata": {},
   "outputs": [],
   "source": [
    "#Loop statements\n"
   ]
  }
 ],
 "metadata": {
  "kernelspec": {
   "display_name": "Python 3 (ipykernel)",
   "language": "python",
   "name": "python3"
  },
  "language_info": {
   "codemirror_mode": {
    "name": "ipython",
    "version": 3
   },
   "file_extension": ".py",
   "mimetype": "text/x-python",
   "name": "python",
   "nbconvert_exporter": "python",
   "pygments_lexer": "ipython3",
   "version": "3.10.6"
  }
 },
 "nbformat": 4,
 "nbformat_minor": 5
}
